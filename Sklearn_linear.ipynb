{
  "nbformat": 4,
  "nbformat_minor": 0,
  "metadata": {
    "colab": {
      "name": "Sklearn_linear.ipynb",
      "version": "0.3.2",
      "provenance": [],
      "collapsed_sections": [],
      "include_colab_link": true
    },
    "kernelspec": {
      "name": "python3",
      "display_name": "Python 3"
    }
  },
  "cells": [
    {
      "cell_type": "markdown",
      "metadata": {
        "id": "view-in-github",
        "colab_type": "text"
      },
      "source": [
        "<a href=\"https://colab.research.google.com/github/Dennis826/mit-dlaicourse/blob/master/Sklearn_linear.ipynb\" target=\"_parent\"><img src=\"https://colab.research.google.com/assets/colab-badge.svg\" alt=\"Open In Colab\"/></a>"
      ]
    },
    {
      "metadata": {
        "id": "jI-htkEyfA9w",
        "colab_type": "code",
        "colab": {}
      },
      "cell_type": "code",
      "source": [
        "import numpy as np\n",
        "import matplotlib.pyplot as plt\n",
        "from sklearn.preprocessing import PolynomialFeatures\n",
        "from sklearn.linear_model import LinearRegression\n",
        "from sklearn.metrics import mean_squared_error"
      ],
      "execution_count": 0,
      "outputs": []
    },
    {
      "metadata": {
        "id": "is4fgtU_fLWC",
        "colab_type": "code",
        "colab": {}
      },
      "cell_type": "code",
      "source": [
        "sample_cnt= 32\n",
        "data_x = np.linspace(start = 0, stop = sample_cnt/4, num = sample_cnt).reshape(-1, 1)\n",
        "rand_n = np.random.randn(sample_cnt).reshape(-1, 1)"
      ],
      "execution_count": 0,
      "outputs": []
    },
    {
      "metadata": {
        "id": "H-OFW_PTgHWf",
        "colab_type": "code",
        "colab": {}
      },
      "cell_type": "code",
      "source": [
        "#print(data_x)\n",
        "#print(rand_n)"
      ],
      "execution_count": 0,
      "outputs": []
    },
    {
      "metadata": {
        "id": "jZiHB0RYfUGn",
        "colab_type": "code",
        "outputId": "1b95e015-4110-4ce4-d7a0-1bc51994c6f0",
        "colab": {
          "base_uri": "https://localhost:8080/",
          "height": 181
        }
      },
      "cell_type": "code",
      "source": [
        "# curve using linear\n",
        "#curve_linear = np.sin(data_x)\n",
        "θ0, θ1 = 0.3, -0.05\n",
        "curve_linear = yr = θ0 + θ1*data_x\n",
        "curve_linear += rand_n * 0.03\n",
        "\n",
        "plt.subplot(2, 2, 1)\n",
        "plt.plot(data_x, curve_linear, 'b.')\n",
        "plt.xlabel(\"np.linspace(0, 8, 32)\")\n",
        "plt.ylabel(\"curve_linear(data_x)\")"
      ],
      "execution_count": 23,
      "outputs": [
        {
          "output_type": "execute_result",
          "data": {
            "text/plain": [
              "Text(0, 0.5, 'curve_linear(data_x)')"
            ]
          },
          "metadata": {
            "tags": []
          },
          "execution_count": 23
        },
        {
          "output_type": "display_data",
          "data": {
            "image/png": "[encoded data removed]",
            "text/plain": [
              "<Figure size 432x288 with 1 Axes>"
            ]
          },
          "metadata": {
            "tags": []
          }
        }
      ]
    },
    {
      "metadata": {
        "id": "hklqZHq4fXxX",
        "colab_type": "code",
        "outputId": "5de704f0-558a-49f2-9ffb-3e25af520828",
        "colab": {
          "base_uri": "https://localhost:8080/",
          "height": 193
        }
      },
      "cell_type": "code",
      "source": [
        "# curve using polynomial\n",
        "θ0, θ1, θ2, θ3 = 0.1, -0.02, 0.03, -0.04\n",
        "curve_polynomial = θ0 + θ1*data_x + θ2*(data_x**2) + θ3*(data_x**3)\n",
        "curve_polynomial += rand_n\n",
        "\n",
        "plt.subplot(2, 2, 2)\n",
        "plt.plot(data_x, curve_polynomial, 'b.')\n",
        "plt.xlabel(\"np.linspace(0, 8, 32)\")\n",
        "plt.ylabel(\"curve_polynomial(data_x)\")"
      ],
      "execution_count": 24,
      "outputs": [
        {
          "output_type": "execute_result",
          "data": {
            "text/plain": [
              "Text(0, 0.5, 'curve_polynomial(data_x)')"
            ]
          },
          "metadata": {
            "tags": []
          },
          "execution_count": 24
        },
        {
          "output_type": "display_data",
          "data": {
            "image/png": "[encoded data removed]",
            "text/plain": [
              "<Figure size 432x288 with 1 Axes>"
            ]
          },
          "metadata": {
            "tags": []
          }
        }
      ]
    },
    {
      "metadata": {
        "id": "0yQjcmZQjCRL",
        "colab_type": "code",
        "outputId": "983330d0-e323-47f1-f03c-59477d89ac57",
        "colab": {
          "base_uri": "https://localhost:8080/",
          "height": 207
        }
      },
      "cell_type": "code",
      "source": [
        "#fitting linear with Linear regression\n",
        "linear_reg = LinearRegression()\n",
        "linear_reg.fit(data_x, curve_linear)\n",
        "print(linear_reg.intercept_, linear_reg.coef_)\n",
        "\n",
        "fit_x = np.linspace(start = 0, stop = sample_cnt/4, num = 1024).reshape(-1, 1)\n",
        "fit_linear = np.dot(fit_x, linear_reg.coef_.T) + linear_reg.intercept_\n",
        "\n",
        "plt.subplot(2, 2, 3)\n",
        "plt.plot(fit_x, fit_linear, 'r-')\n",
        "plt.plot(data_x, curve_linear, 'b.')\n",
        "plt.xlabel(\"np.linspace(0, 8, 32)\")\n",
        "plt.ylabel(\"curve fitting using Linear\")"
      ],
      "execution_count": 25,
      "outputs": [
        {
          "output_type": "stream",
          "text": [
            "[0.29142306] [[-0.04811547]]\n"
          ],
          "name": "stdout"
        },
        {
          "output_type": "execute_result",
          "data": {
            "text/plain": [
              "Text(0, 0.5, 'curve fitting using Linear')"
            ]
          },
          "metadata": {
            "tags": []
          },
          "execution_count": 25
        },
        {
          "output_type": "display_data",
          "data": {
            "image/png": "[encoded data removed]",
            "text/plain": [
              "<Figure size 432x288 with 1 Axes>"
            ]
          },
          "metadata": {
            "tags": []
          }
        }
      ]
    },
    {
      "metadata": {
        "id": "fzPjXA9bnFyP",
        "colab_type": "code",
        "outputId": "afa2272f-243e-4ebd-aaa9-20d195636bee",
        "colab": {
          "base_uri": "https://localhost:8080/",
          "height": 207
        }
      },
      "cell_type": "code",
      "source": [
        "#fitting polynomial with Linear regression\n",
        "linear_reg_fail = LinearRegression()\n",
        "linear_reg_fail.fit(data_x, curve_polynomial)\n",
        "print(linear_reg_fail.intercept_, linear_reg_fail.coef_) \n",
        "\n",
        "fit_x = np.linspace(start = 0, stop = sample_cnt/4, num = 1024).reshape(-1, 1)\n",
        "fit_linear_fail = np.dot(fit_x, linear_reg_fail.coef_.T) + linear_reg_fail.intercept_\n",
        "\n",
        "plt.subplot(2, 2, 4)\n",
        "plt.plot(fit_x, fit_linear_fail, 'r-')\n",
        "plt.plot(data_x, curve_polynomial, 'b.')\n",
        "plt.xlabel(\"np.linspace(0, 8, 32)\")\n",
        "plt.ylabel(\"curve fitting using Linear\")"
      ],
      "execution_count": 26,
      "outputs": [
        {
          "output_type": "stream",
          "text": [
            "[3.53222908] [[-2.0454237]]\n"
          ],
          "name": "stdout"
        },
        {
          "output_type": "execute_result",
          "data": {
            "text/plain": [
              "Text(0, 0.5, 'curve fitting using Linear')"
            ]
          },
          "metadata": {
            "tags": []
          },
          "execution_count": 26
        },
        {
          "output_type": "display_data",
          "data": {
            "image/png": "[encoded data removed]",
            "text/plain": [
              "<Figure size 432x288 with 1 Axes>"
            ]
          },
          "metadata": {
            "tags": []
          }
        }
      ]
    },
    {
      "metadata": {
        "id": "E8Yml9vToHtQ",
        "colab_type": "code",
        "outputId": "b21482d6-096c-49c7-efc5-89fddc88593a",
        "colab": {
          "base_uri": "https://localhost:8080/",
          "height": 50
        }
      },
      "cell_type": "code",
      "source": [
        "hypo = np.dot(data_x, linear_reg.coef_.T) + linear_reg.intercept_\n",
        "hypo_fail = np.dot(data_x, linear_reg_fail.coef_.T) + linear_reg_fail.intercept_\n",
        "print(mean_squared_error(hypo, curve_linear))          # MSE of linear \n",
        "print(mean_squared_error(hypo_fail, curve_polynomial)) # MSE of polynimial"
      ],
      "execution_count": 27,
      "outputs": [
        {
          "output_type": "stream",
          "text": [
            "0.0010096010435381854\n",
            "7.327378526152019\n"
          ],
          "name": "stdout"
        }
      ]
    },
    {
      "metadata": {
        "id": "4WxrPI4qpGFY",
        "colab_type": "code",
        "outputId": "1278d938-a014-415b-b1a0-d22fd6ae4782",
        "colab": {
          "base_uri": "https://localhost:8080/",
          "height": 219
        }
      },
      "cell_type": "code",
      "source": [
        "#fitting linear with Polynomial\n",
        "poly_features_1 = PolynomialFeatures(degree = 3)\n",
        "linear_reg = LinearRegression()\n",
        "linear_reg.fit(poly_features_1.fit_transform(data_x), curve_linear)\n",
        "print(poly_features_1.get_params())\n",
        "\n",
        "fit_x = np.linspace(start = 0, stop = sample_cnt/4, num = 1024).reshape(-1, 1)\n",
        "fit_linear = linear_reg.predict(poly_features_1.fit_transform(fit_x))\n",
        "\n",
        "plt.subplot(2, 2, 3)\n",
        "plt.plot(fit_x, fit_linear, 'r-')\n",
        "plt.plot(data_x, curve_linear, 'b.')\n",
        "plt.xlabel(\"np.linspace(0, 8, 32)\")\n",
        "plt.ylabel(\"curve fitting using Polynomial\")"
      ],
      "execution_count": 28,
      "outputs": [
        {
          "output_type": "stream",
          "text": [
            "{'degree': 3, 'include_bias': True, 'interaction_only': False}\n"
          ],
          "name": "stdout"
        },
        {
          "output_type": "execute_result",
          "data": {
            "text/plain": [
              "Text(0, 0.5, 'curve fitting using Polynomial')"
            ]
          },
          "metadata": {
            "tags": []
          },
          "execution_count": 28
        },
        {
          "output_type": "display_data",
          "data": {
            "image/png": "[encoded data removed]",
            "text/plain": [
              "<Figure size 432x288 with 1 Axes>"
            ]
          },
          "metadata": {
            "tags": []
          }
        }
      ]
    },
    {
      "metadata": {
        "id": "Rzt579vIibSb",
        "colab_type": "code",
        "outputId": "db1da377-11ca-4680-ed7b-25a26d7ddb49",
        "colab": {
          "base_uri": "https://localhost:8080/",
          "height": 236
        }
      },
      "cell_type": "code",
      "source": [
        "#fitting polynomial with Polynomial\n",
        "poly_features_3 = PolynomialFeatures(degree = 2)\n",
        "linear_reg_best = LinearRegression()\n",
        "linear_reg_best.fit(poly_features_3.fit_transform(data_x), curve_polynomial)\n",
        "print(poly_features_3.get_params())\n",
        "\n",
        "fit_x = np.linspace(start = 0, stop = sample_cnt/4, num = 1024).reshape(-1, 1)\n",
        "fit_linear_best = linear_reg_best.predict(poly_features_3.fit_transform(fit_x))\n",
        "\n",
        "plt.subplot(2, 2, 4)\n",
        "plt.plot(fit_x, fit_linear_best, 'r-')\n",
        "plt.plot(data_x, curve_polynomial, 'b.')\n",
        "plt.xlabel(\"np.linspace(0, 8, 32)\")\n",
        "plt.ylabel(\"curve fitting using Polynomial\")\n",
        "\n",
        "hypo = linear_reg.predict(poly_features_1.fit_transform(data_x))\n",
        "hypo_best = linear_reg_best.predict(poly_features_3.fit_transform(data_x))\n",
        "print(mean_squared_error(hypo, curve_linear))          # MSE\n",
        "print(mean_squared_error(hypo_best, curve_polynomial)) # MSE"
      ],
      "execution_count": 29,
      "outputs": [
        {
          "output_type": "stream",
          "text": [
            "{'degree': 2, 'include_bias': True, 'interaction_only': False}\n",
            "0.0008866263937750167\n",
            "1.5845523659678935\n"
          ],
          "name": "stdout"
        },
        {
          "output_type": "display_data",
          "data": {
            "image/png": "[encoded data removed]",
            "text/plain": [
              "<Figure size 432x288 with 1 Axes>"
            ]
          },
          "metadata": {
            "tags": []
          }
        }
      ]
    },
    {
      "metadata": {
        "id": "hZQAh0x6jdxY",
        "colab_type": "code",
        "outputId": "8b3efed3-43f6-4949-eac9-c470c0ae0a8a",
        "colab": {
          "base_uri": "https://localhost:8080/",
          "height": 236
        }
      },
      "cell_type": "code",
      "source": [
        "#fitting polynomial with Polynomial\n",
        "poly_features_3 = PolynomialFeatures(degree = 10)\n",
        "linear_reg_best = LinearRegression()\n",
        "linear_reg_best.fit(poly_features_3.fit_transform(data_x), curve_polynomial)\n",
        "print(poly_features_3.get_params())\n",
        "\n",
        "fit_x = np.linspace(start = 0, stop = sample_cnt/4, num = 1024).reshape(-1, 1)\n",
        "fit_linear_best = linear_reg_best.predict(poly_features_3.fit_transform(fit_x))\n",
        "\n",
        "plt.subplot(2, 2, 4)\n",
        "plt.plot(fit_x, fit_linear_best, 'r-')\n",
        "plt.plot(data_x, curve_polynomial, 'b.')\n",
        "plt.xlabel(\"np.linspace(0, 8, 32)\")\n",
        "plt.ylabel(\"curve fitting using Polynomial\")\n",
        "\n",
        "hypo = linear_reg.predict(poly_features_1.fit_transform(data_x))\n",
        "hypo_best = linear_reg_best.predict(poly_features_3.fit_transform(data_x))\n",
        "print(mean_squared_error(hypo, curve_linear))          # MSE\n",
        "print(mean_squared_error(hypo_best, curve_polynomial)) # MSE"
      ],
      "execution_count": 34,
      "outputs": [
        {
          "output_type": "stream",
          "text": [
            "{'degree': 10, 'include_bias': True, 'interaction_only': False}\n",
            "0.0008866263937750167\n",
            "0.8639574506896626\n"
          ],
          "name": "stdout"
        },
        {
          "output_type": "display_data",
          "data": {
            "image/png": "[encoded data removed]",
            "text/plain": [
              "<Figure size 432x288 with 1 Axes>"
            ]
          },
          "metadata": {
            "tags": []
          }
        }
      ]
    },
    {
      "metadata": {
        "id": "TYiO-YlRjqS6",
        "colab_type": "code",
        "outputId": "eced335f-34aa-40e6-b10e-c2f234b039c5",
        "colab": {
          "base_uri": "https://localhost:8080/",
          "height": 236
        }
      },
      "cell_type": "code",
      "source": [
        "#fitting polynomial with Polynomial\n",
        "poly_features_3 = PolynomialFeatures(degree = 3)\n",
        "linear_reg_best = LinearRegression()\n",
        "linear_reg_best.fit(poly_features_3.fit_transform(data_x), curve_polynomial)\n",
        "print(poly_features_3.get_params())\n",
        "\n",
        "fit_x = np.linspace(start = 0, stop = sample_cnt/4, num = 1024).reshape(-1, 1)\n",
        "fit_linear_best = linear_reg_best.predict(poly_features_3.fit_transform(fit_x))\n",
        "\n",
        "plt.subplot(2, 2, 4)\n",
        "plt.plot(fit_x, fit_linear_best, 'r-')\n",
        "plt.plot(data_x, curve_polynomial, 'b.')\n",
        "plt.xlabel(\"np.linspace(0, 8, 32)\")\n",
        "plt.ylabel(\"curve fitting using Polynomial\")\n",
        "\n",
        "hypo = linear_reg.predict(poly_features_1.fit_transform(data_x))\n",
        "hypo_best = linear_reg_best.predict(poly_features_3.fit_transform(data_x))\n",
        "print(mean_squared_error(hypo, curve_linear))          # MSE\n",
        "print(mean_squared_error(hypo_best, curve_polynomial)) # MSE"
      ],
      "execution_count": 31,
      "outputs": [
        {
          "output_type": "stream",
          "text": [
            "{'degree': 3, 'include_bias': True, 'interaction_only': False}\n",
            "0.0008866263937750167\n",
            "0.9851404375277965\n"
          ],
          "name": "stdout"
        },
        {
          "output_type": "display_data",
          "data": {
            "image/png": "[encoded data removed]",
            "text/plain": [
              "<Figure size 432x288 with 1 Axes>"
            ]
          },
          "metadata": {
            "tags": []
          }
        }
      ]
    },
    {
      "metadata": {
        "id": "l1DDP57yjvF9",
        "colab_type": "code",
        "colab": {}
      },
      "cell_type": "code",
      "source": [
        ""
      ],
      "execution_count": 0,
      "outputs": []
    }
  ]
}