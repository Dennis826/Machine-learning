{
  "nbformat": 4,
  "nbformat_minor": 0,
  "metadata": {
    "colab": {
      "name": "Course01-01-Hello World.ipynb",
      "version": "0.3.2",
      "provenance": [],
      "collapsed_sections": [],
      "include_colab_link": true
    },
    "kernelspec": {
      "name": "python3",
      "display_name": "Python 3"
    }
  },
  "cells": [
    {
      "cell_type": "markdown",
      "metadata": {
        "id": "view-in-github",
        "colab_type": "text"
      },
      "source": [
        "<a href=\"https://colab.research.google.com/github/Dennis826/Machine-learning/blob/master/Course01_01_Hello_World.ipynb\" target=\"_parent\"><img src=\"https://colab.research.google.com/assets/colab-badge.svg\" alt=\"Open In Colab\"/></a>"
      ]
    },
    {
      "metadata": {
        "id": "FS-Ldtz8sFCb",
        "colab_type": "text"
      },
      "cell_type": "markdown",
      "source": [
        "# **The Hello World of Deep Learning with Neural Networks**"
      ]
    },
    {
      "metadata": {
        "id": "X8tWV3FJOJne",
        "colab_type": "text"
      },
      "cell_type": "markdown",
      "source": [
        "# **01, Linear regression**"
      ]
    },
    {
      "metadata": {
        "id": "Kb_Xahg4r8pk",
        "colab_type": "code",
        "colab": {}
      },
      "cell_type": "code",
      "source": [
        "import tensorflow as tf\n",
        "import numpy as np\n",
        "from tensorflow import keras\n",
        "from numpy import random"
      ],
      "execution_count": 0,
      "outputs": []
    },
    {
      "metadata": {
        "id": "HEDgdYT-s_hu",
        "colab_type": "code",
        "colab": {}
      },
      "cell_type": "code",
      "source": [
        "model = tf.keras.Sequential([keras.layers.Dense(units=1, input_shape=[1])])\n",
        "model.compile(optimizer='sgd', loss='mean_squared_error')"
      ],
      "execution_count": 0,
      "outputs": []
    },
    {
      "metadata": {
        "id": "k_Z8pFrG7Xmv",
        "colab_type": "code",
        "colab": {}
      },
      "cell_type": "code",
      "source": [
        "#x_list=random.randint(1,1000,30)\n",
        "#y_list=x_list*2-1\n",
        "#print(x_list)\n",
        "#print(y_list)\n",
        "\n",
        "#xs = np.array([-1.0,  0.0, 1.0, 2.0, 3.0, 4.0], dtype=float)\n",
        "#ys = np.array([-3.0, -1.0, 1.0, 3.0, 5.0, 7.0], dtype=float)\n",
        "#xs=np.array(x_list)\n",
        "#ys=np.array(y_list)"
      ],
      "execution_count": 0,
      "outputs": []
    },
    {
      "metadata": {
        "id": "Ygl4zCitDbLI",
        "colab_type": "code",
        "colab": {}
      },
      "cell_type": "code",
      "source": [
        "x_train=np.linspace(1,1000,30)\n",
        "y_train=x_train*2-1\n",
        "\n",
        "#print(x_train)\n",
        "#print(y_train)"
      ],
      "execution_count": 0,
      "outputs": []
    },
    {
      "metadata": {
        "id": "M16gWAmOtdY9",
        "colab_type": "code",
        "colab": {}
      },
      "cell_type": "code",
      "source": [
        "model.fit(xs, ys, epochs=1000,verbose=1)"
      ],
      "execution_count": 0,
      "outputs": []
    },
    {
      "metadata": {
        "id": "OsZO9mADuvZl",
        "colab_type": "code",
        "outputId": "9ff985e5-3919-4dea-a129-9387c66c5a97",
        "colab": {
          "base_uri": "https://localhost:8080/",
          "height": 35
        }
      },
      "cell_type": "code",
      "source": [
        "print(model.predict([200]))"
      ],
      "execution_count": 0,
      "outputs": [
        {
          "output_type": "stream",
          "text": [
            "[[398.99637]]\n"
          ],
          "name": "stdout"
        }
      ]
    },
    {
      "metadata": {
        "id": "wp0iXTxWeo_A",
        "colab_type": "code",
        "outputId": "f120332a-efb5-4ff9-ca63-5ebdb2d0933f",
        "colab": {
          "base_uri": "https://localhost:8080/",
          "height": 35
        }
      },
      "cell_type": "code",
      "source": [
        "W,b=model.layers[0].get_weights()   #layers[0]只有一个网络层\n",
        "print('W:',W,'b:',b)"
      ],
      "execution_count": 0,
      "outputs": [
        {
          "output_type": "stream",
          "text": [
            "W: [[1.9999815]] b: [-0.99994224]\n"
          ],
          "name": "stdout"
        }
      ]
    },
    {
      "metadata": {
        "id": "ul64u_lxOWpn",
        "colab_type": "text"
      },
      "cell_type": "markdown",
      "source": [
        "# **02, Polynomial regression**"
      ]
    },
    {
      "metadata": {
        "id": "64WffGqqOdD2",
        "colab_type": "code",
        "colab": {}
      },
      "cell_type": "code",
      "source": [
        "import tensorflow as tf\n",
        "import numpy as np\n",
        "from tensorflow import keras\n",
        "from sklearn import preprocessing\n",
        "import matplotlib.pyplot as plt"
      ],
      "execution_count": 0,
      "outputs": []
    },
    {
      "metadata": {
        "id": "wmNFqKTjOma0",
        "colab_type": "code",
        "colab": {}
      },
      "cell_type": "code",
      "source": [
        "#part1: train data  \n",
        "#generate 1000 numbers from -2pi to 2pi\n",
        "x_train = np.linspace(-2*np.pi,2*np.pi,2000).reshape(2000, 1)\n",
        "n=0.1*np.random.rand(len(x_train),1)\n",
        "y_train=np.sin(x_train)+n\n",
        "\n",
        "#训练数据集：零均值单位方差\n",
        "x_train = preprocessing.scale(x_train)\n",
        "scaler = preprocessing.StandardScaler().fit(x_train)\n",
        "y_train = scaler.transform(y_train)"
      ],
      "execution_count": 0,
      "outputs": []
    },
    {
      "metadata": {
        "id": "tP7clnpzOtQK",
        "colab_type": "code",
        "colab": {}
      },
      "cell_type": "code",
      "source": [
        "#part2: test data \n",
        "x_test = np.linspace(-5,5,500).reshape(500, 1)\n",
        "x_test = scaler.transform(x_test)\n",
        "y_test=np.sin(x_test)"
      ],
      "execution_count": 0,
      "outputs": []
    },
    {
      "metadata": {
        "id": "sDEWNnMSOwJc",
        "colab_type": "code",
        "colab": {
          "base_uri": "https://localhost:8080/",
          "height": 168
        },
        "outputId": "265b278d-1c4d-4b9b-b0af-bf7d07c1558f"
      },
      "cell_type": "code",
      "source": [
        "#prediction data\n",
        "x_prd = np.linspace(-3,3,100).reshape(100, 1)\n",
        "x_prd = scaler.transform(x_prd)\n",
        "y_prd=np.sin(x_prd)\n",
        "\n",
        "#plot prediction data\n",
        "plt.subplot(2,2,1)\n",
        "plt.plot(x_prd, y_prd,'r')"
      ],
      "execution_count": 34,
      "outputs": [
        {
          "output_type": "execute_result",
          "data": {
            "text/plain": [
              "[<matplotlib.lines.Line2D at 0x7fe224578b00>]"
            ]
          },
          "metadata": {
            "tags": []
          },
          "execution_count": 34
        },
        {
          "output_type": "display_data",
          "data": {
            "image/png": "[encoded data removed]",
            "text/plain": [
              "<Figure size 432x288 with 1 Axes>"
            ]
          },
          "metadata": {
            "tags": []
          }
        }
      ]
    },
    {
      "metadata": {
        "id": "5tawz4umPBxA",
        "colab_type": "code",
        "colab": {}
      },
      "cell_type": "code",
      "source": [
        "#Create model\n",
        "model = tf.keras.Sequential([keras.layers.Dense(units=10, input_shape=[1],activation='relu'),\n",
        "                             keras.layers.Dense(units=1)])\n",
        "\n",
        "model.compile(loss='mean_squared_error', optimizer='rmsprop', metrics=['accuracy'])"
      ],
      "execution_count": 0,
      "outputs": []
    },
    {
      "metadata": {
        "id": "4xJAdZmaPHwW",
        "colab_type": "code",
        "colab": {
          "base_uri": "https://localhost:8080/",
          "height": 88
        },
        "outputId": "2a9049be-b351-4bf1-db5b-8b44869fae78"
      },
      "cell_type": "code",
      "source": [
        "#fit model \n",
        "hist = model.fit(x_test, y_test, batch_size=10, epochs=1000, shuffle=True,verbose=0,validation_split=0.2)\n",
        "W,b=model.layers[0].get_weights()   #layers[0]只有一个网络层\n",
        "print('W:',W,'b:',b)\n",
        "score = model.evaluate(x_test, y_test, batch_size=10)"
      ],
      "execution_count": 39,
      "outputs": [
        {
          "output_type": "stream",
          "text": [
            "W: [[ 0.5272362  -0.6516679   0.00110904  0.32955864 -0.4960883   0.98466104\n",
            "  -0.00209738  0.22181012  0.6049366  -0.42126784]] b: [ 0.4607964  -0.8481425  -0.00612743  0.65777755 -0.89755887 -1.2603163\n",
            " -0.01662214  0.442041    0.4903106   0.8614537 ]\n",
            "500/500 [==============================] - 0s 61us/sample - loss: 0.0256 - acc: 0.0000e+00\n"
          ],
          "name": "stdout"
        }
      ]
    },
    {
      "metadata": {
        "id": "elvRU41qPK1g",
        "colab_type": "code",
        "colab": {
          "base_uri": "https://localhost:8080/",
          "height": 182
        },
        "outputId": "7128d24f-cee8-4e5f-d881-f13b786058d6"
      },
      "cell_type": "code",
      "source": [
        "out = model.predict(x_prd, batch_size=1)\n",
        "\n",
        "plt.subplot(2,2,2)\n",
        "plt.plot(x_prd, out, 'k--', lw=4)\n",
        "plt.plot(x_prd, y_prd,'r')\n",
        "plt.xlabel('Measured')\n",
        "plt.ylabel('Predicted')"
      ],
      "execution_count": 40,
      "outputs": [
        {
          "output_type": "execute_result",
          "data": {
            "text/plain": [
              "Text(0, 0.5, 'Predicted')"
            ]
          },
          "metadata": {
            "tags": []
          },
          "execution_count": 40
        },
        {
          "output_type": "display_data",
          "data": {
            "image/png": "[encoded data removed]",
            "text/plain": [
              "<Figure size 432x288 with 1 Axes>"
            ]
          },
          "metadata": {
            "tags": []
          }
        }
      ]
    },
    {
      "metadata": {
        "id": "A8JmNdCoPaY_",
        "colab_type": "code",
        "colab": {}
      },
      "cell_type": "code",
      "source": [
        "defsgd=keras.optimizers.SGD(lr=0.2)\n",
        "\n",
        "model = keras.Sequential([keras.layers.Dense(units=10, input_shape=[1],activation='tanh'),\n",
        "                          keras.layers.Dense(units=10, input_shape=[1],activation='tanh'),\n",
        "                          keras.layers.Dense(units=1,activation='tanh')])\n",
        "model.compile(optimizer=defsgd, loss='mean_squared_error')"
      ],
      "execution_count": 0,
      "outputs": []
    },
    {
      "metadata": {
        "id": "RQ90nT4LPd1U",
        "colab_type": "code",
        "colab": {
          "base_uri": "https://localhost:8080/",
          "height": 239
        },
        "outputId": "5acd3f2e-c64e-430d-dcc3-dfcb6b10ebda"
      },
      "cell_type": "code",
      "source": [
        "np.random.seed(0)\n",
        "x_train=np.linspace(-1,1,2000)\n",
        "noise=np.random.normal(0,0.2,x_train.shape)\n",
        "y_train=x_train**3+2*x_train**2-x_train+noise\n",
        "\n",
        "x_test=np.linspace(-1,1,500)\n",
        "y_test=x_test**3+2*x_test**2-x_test\n",
        "\n",
        "print(x_test[0:10])\n",
        "print(y_test[0:10])\n",
        "plt.subplot(2,2,3)\n",
        "plt.scatter(x_train,y_train)\n",
        "plt.plot(x_test,y_test,'r-',lw=2)"
      ],
      "execution_count": 62,
      "outputs": [
        {
          "output_type": "stream",
          "text": [
            "[-1.         -0.99599198 -0.99198397 -0.98797595 -0.98396794 -0.97995992\n",
            " -0.9759519  -0.97194389 -0.96793587 -0.96392786]\n",
            "[2.         1.99196797 1.98390419 1.97580906 1.96768297 1.95952628\n",
            " 1.9513394  1.94312271 1.9348766  1.92660145]\n"
          ],
          "name": "stdout"
        },
        {
          "output_type": "execute_result",
          "data": {
            "text/plain": [
              "[<matplotlib.lines.Line2D at 0x7fe221342cf8>]"
            ]
          },
          "metadata": {
            "tags": []
          },
          "execution_count": 62
        },
        {
          "output_type": "display_data",
          "data": {
            "image/png": "[encoded data removed]",
            "text/plain": [
              "<Figure size 432x288 with 1 Axes>"
            ]
          },
          "metadata": {
            "tags": []
          }
        }
      ]
    },
    {
      "metadata": {
        "id": "7ZyJRDalPg7D",
        "colab_type": "code",
        "colab": {}
      },
      "cell_type": "code",
      "source": [
        "model.fit(x_train, y_train, batch_size=10,epochs=1000,verbose=1,validation_split=0.2)\n",
        "\n",
        "#打印权值和偏置值\n",
        "W,b=model.layers[0].get_weights()\n",
        "print('W:',W,'b:',b)\n",
        "score = model.evaluate(x_test, y_test, batch_size=10)"
      ],
      "execution_count": 0,
      "outputs": []
    },
    {
      "metadata": {
        "id": "2OzDKEr_PjTG",
        "colab_type": "code",
        "colab": {
          "base_uri": "https://localhost:8080/",
          "height": 168
        },
        "outputId": "e41bfead-6730-4be9-dba0-52ebd36ca665"
      },
      "cell_type": "code",
      "source": [
        "#x_data输入网络中，得到预测值y_pred\n",
        "y_pred=model.predict(x_test)\n",
        "\n",
        "plt.subplot(2,2,4)\n",
        "plt.scatter(x_test,y_test)\n",
        "plt.plot(x_test,y_pred,'r-',lw=3)"
      ],
      "execution_count": 60,
      "outputs": [
        {
          "output_type": "execute_result",
          "data": {
            "text/plain": [
              "[<matplotlib.lines.Line2D at 0x7fe2217670f0>]"
            ]
          },
          "metadata": {
            "tags": []
          },
          "execution_count": 60
        },
        {
          "output_type": "display_data",
          "data": {
            "image/png": "[encoded data removed]",
            "text/plain": [
              "<Figure size 432x288 with 1 Axes>"
            ]
          },
          "metadata": {
            "tags": []
          }
        }
      ]
    },
    {
      "metadata": {
        "id": "O93Uk_OSPvsF",
        "colab_type": "code",
        "colab": {
          "base_uri": "https://localhost:8080/",
          "height": 35
        },
        "outputId": "c238f319-cb3f-43c7-8748-ae4c2d940959"
      },
      "cell_type": "code",
      "source": [
        "print(model.predict([-1]))"
      ],
      "execution_count": 63,
      "outputs": [
        {
          "output_type": "stream",
          "text": [
            "[[0.99999094]]\n"
          ],
          "name": "stdout"
        }
      ]
    }
  ]
}