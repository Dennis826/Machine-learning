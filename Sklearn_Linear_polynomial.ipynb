{
  "nbformat": 4,
  "nbformat_minor": 0,
  "metadata": {
    "colab": {
      "name": "Sklearn_Linear_polynomial.ipynb",
      "version": "0.3.2",
      "provenance": [],
      "collapsed_sections": [],
      "include_colab_link": true
    },
    "kernelspec": {
      "name": "python3",
      "display_name": "Python 3"
    }
  },
  "cells": [
    {
      "cell_type": "markdown",
      "metadata": {
        "id": "view-in-github",
        "colab_type": "text"
      },
      "source": [
        "<a href=\"https://colab.research.google.com/github/Dennis826/mit-dlaicourse/blob/master/Sklearn_Linear_polynomial.ipynb\" target=\"_parent\"><img src=\"https://colab.research.google.com/assets/colab-badge.svg\" alt=\"Open In Colab\"/></a>"
      ]
    },
    {
      "metadata": {
        "id": "P5cdlKSImzMp",
        "colab_type": "code",
        "colab": {}
      },
      "cell_type": "code",
      "source": [
        "import numpy as np\n",
        "import matplotlib.pyplot as plt\n",
        "from sklearn.preprocessing import PolynomialFeatures\n",
        "from sklearn.linear_model import LinearRegression\n",
        "from sklearn.metrics import mean_squared_error"
      ],
      "execution_count": 0,
      "outputs": []
    },
    {
      "metadata": {
        "id": "PEnMB_V4m4eD",
        "colab_type": "code",
        "colab": {}
      },
      "cell_type": "code",
      "source": [
        "data_x=np.linspace(0,10,num=32).reshape(-1,1)\n",
        "data_y=2*data_x**4+3*data_x**3-2*data_x**2-data_x\n",
        "\n",
        "print(data_x)\n",
        "print(data_y)"
      ],
      "execution_count": 0,
      "outputs": []
    },
    {
      "metadata": {
        "id": "13NPD_YGnqO9",
        "colab_type": "code",
        "outputId": "bd0281ac-1b32-40b6-8f0d-bcf7461efda9",
        "colab": {
          "base_uri": "https://localhost:8080/",
          "height": 249
        }
      },
      "cell_type": "code",
      "source": [
        "#fitting polynomial with Linear regression\n",
        "linear_reg = LinearRegression()\n",
        "linear_reg.fit(data_x, data_y)\n",
        "print(linear_reg.coef_,linear_reg.intercept_) \n",
        "\n",
        "fit_x = np.linspace(0, 10, num = 1024).reshape(-1, 1)\n",
        "fit_linear = np.dot(fit_x, linear_reg.coef_.T) + linear_reg.intercept_\n",
        "\n",
        "plt.subplot(2, 2, 1)\n",
        "plt.plot(fit_x, fit_linear, 'r-')\n",
        "plt.plot(data_x, data_y, 'b.')\n",
        "plt.xlabel(\"np.linspace(0, 8, 32)\")\n",
        "plt.ylabel(\"curve polynomial fitting using Linear\")"
      ],
      "execution_count": 14,
      "outputs": [
        {
          "output_type": "stream",
          "text": [
            "[[1889.71800208]] [-4552.91866671]\n"
          ],
          "name": "stdout"
        },
        {
          "output_type": "execute_result",
          "data": {
            "text/plain": [
              "Text(0, 0.5, 'curve polynomial fitting using Linear')"
            ]
          },
          "metadata": {
            "tags": []
          },
          "execution_count": 14
        },
        {
          "output_type": "display_data",
          "data": {
            "image/png": "[encoded data removed]",
            "text/plain": [
              "<Figure size 432x288 with 1 Axes>"
            ]
          },
          "metadata": {
            "tags": []
          }
        }
      ]
    },
    {
      "metadata": {
        "id": "7c0TsXx7ojXq",
        "colab_type": "code",
        "outputId": "a80bc33f-5fa2-4ccc-d184-9570a3024db7",
        "colab": {
          "base_uri": "https://localhost:8080/",
          "height": 34
        }
      },
      "cell_type": "code",
      "source": [
        "test_x=np.array([4]).reshape(-1,1)\n",
        "linear_reg.predict(test_x)"
      ],
      "execution_count": 4,
      "outputs": [
        {
          "output_type": "execute_result",
          "data": {
            "text/plain": [
              "array([[58.74193548]])"
            ]
          },
          "metadata": {
            "tags": []
          },
          "execution_count": 4
        }
      ]
    },
    {
      "metadata": {
        "id": "LcYCpqlRpuXD",
        "colab_type": "code",
        "outputId": "f84b1b18-5207-4ee2-9f07-6dffea2d6dfe",
        "colab": {
          "base_uri": "https://localhost:8080/",
          "height": 236
        }
      },
      "cell_type": "code",
      "source": [
        "#fitting polynomial with Polynomial\n",
        "poly_features = PolynomialFeatures(degree = 2)\n",
        "linear_reg_poly = LinearRegression()\n",
        "linear_reg_poly.fit(poly_features.fit_transform(data_x), data_y)\n",
        "print(poly_features.get_params())\n",
        "\n",
        "fit_x = np.linspace(0, 10, num = 1024).reshape(-1, 1)\n",
        "fit_linear_poly = linear_reg_poly.predict(poly_features.fit_transform(fit_x))\n",
        "\n",
        "plt.subplot(2, 2, 2)\n",
        "plt.plot(fit_x, fit_linear_poly, 'r-')\n",
        "plt.plot(data_x, data_y, 'b.')\n",
        "plt.xlabel(\"np.linspace(0, 8, 32)\")\n",
        "plt.ylabel(\"curve fitting using Polynomial\")\n",
        "\n",
        "hypo = np.dot(data_x, linear_reg.coef_.T) + linear_reg.intercept_\n",
        "hypo_poly = linear_reg_poly.predict(poly_features.fit_transform(data_x))\n",
        "print(mean_squared_error(hypo, data_y))          # MSE\n",
        "print(mean_squared_error(hypo_poly, data_y)) # MSE"
      ],
      "execution_count": 15,
      "outputs": [
        {
          "output_type": "stream",
          "text": [
            "{'degree': 2, 'include_bias': True, 'interaction_only': False}\n",
            "10272216.793750094\n",
            "799397.6896203631\n"
          ],
          "name": "stdout"
        },
        {
          "output_type": "display_data",
          "data": {
            "image/png": "[encoded data removed]",
            "text/plain": [
              "<Figure size 432x288 with 1 Axes>"
            ]
          },
          "metadata": {
            "tags": []
          }
        }
      ]
    },
    {
      "metadata": {
        "id": "yv-IWKJOaM7X",
        "colab_type": "code",
        "colab": {
          "base_uri": "https://localhost:8080/",
          "height": 236
        },
        "outputId": "bb99945a-eec1-4b41-d729-098654668fa2"
      },
      "cell_type": "code",
      "source": [
        "#fitting polynomial with Polynomial\n",
        "poly_features = PolynomialFeatures(degree = 3)\n",
        "linear_reg_poly = LinearRegression()\n",
        "linear_reg_poly.fit(poly_features.fit_transform(data_x), data_y)\n",
        "print(poly_features.get_params())\n",
        "\n",
        "fit_x = np.linspace(0, 10, num = 1024).reshape(-1, 1)\n",
        "fit_linear_poly = linear_reg_poly.predict(poly_features.fit_transform(fit_x))\n",
        "\n",
        "plt.subplot(2, 2, 3)\n",
        "plt.plot(fit_x, fit_linear_poly, 'r-')\n",
        "plt.plot(data_x, data_y, 'b.')\n",
        "plt.xlabel(\"np.linspace(0, 8, 32)\")\n",
        "plt.ylabel(\"curve fitting using Polynomial\")\n",
        "\n",
        "hypo = np.dot(data_x, linear_reg.coef_.T) + linear_reg.intercept_\n",
        "hypo_poly = linear_reg_poly.predict(poly_features.fit_transform(data_x))\n",
        "print(mean_squared_error(hypo, data_y))          # MSE\n",
        "print(mean_squared_error(hypo_poly, data_y)) "
      ],
      "execution_count": 16,
      "outputs": [
        {
          "output_type": "stream",
          "text": [
            "{'degree': 3, 'include_bias': True, 'interaction_only': False}\n",
            "10272216.793750094\n",
            "11353.51220134008\n"
          ],
          "name": "stdout"
        },
        {
          "output_type": "display_data",
          "data": {
            "image/png": "[encoded data removed]",
            "text/plain": [
              "<Figure size 432x288 with 1 Axes>"
            ]
          },
          "metadata": {
            "tags": []
          }
        }
      ]
    },
    {
      "metadata": {
        "id": "zCzqWqqxaWDy",
        "colab_type": "code",
        "colab": {
          "base_uri": "https://localhost:8080/",
          "height": 236
        },
        "outputId": "9ec2211d-a503-4866-80cf-8a3dda6d9597"
      },
      "cell_type": "code",
      "source": [
        "#fitting polynomial with Polynomial\n",
        "poly_features = PolynomialFeatures(degree = 4)\n",
        "linear_reg_poly = LinearRegression()\n",
        "linear_reg_poly.fit(poly_features.fit_transform(data_x), data_y)\n",
        "print(poly_features.get_params())\n",
        "\n",
        "fit_x = np.linspace(0, 10, num = 1024).reshape(-1, 1)\n",
        "fit_linear_poly = linear_reg_poly.predict(poly_features.fit_transform(fit_x))\n",
        "\n",
        "plt.subplot(2, 2, 4)\n",
        "plt.plot(fit_x, fit_linear_poly, 'r-')\n",
        "plt.plot(data_x, data_y, 'b.')\n",
        "plt.xlabel(\"np.linspace(0, 8, 32)\")\n",
        "plt.ylabel(\"curve fitting using Polynomial\")\n",
        "\n",
        "hypo = np.dot(data_x, linear_reg.coef_.T) + linear_reg.intercept_\n",
        "hypo_poly = linear_reg_poly.predict(poly_features.fit_transform(data_x))\n",
        "print(mean_squared_error(hypo, data_y))          # MSE\n",
        "print(mean_squared_error(hypo_poly, data_y)) "
      ],
      "execution_count": 17,
      "outputs": [
        {
          "output_type": "stream",
          "text": [
            "{'degree': 4, 'include_bias': True, 'interaction_only': False}\n",
            "10272216.793750094\n",
            "5.424550854358875e-23\n"
          ],
          "name": "stdout"
        },
        {
          "output_type": "display_data",
          "data": {
            "image/png": "[encoded data removed]",
            "text/plain": [
              "<Figure size 432x288 with 1 Axes>"
            ]
          },
          "metadata": {
            "tags": []
          }
        }
      ]
    },
    {
      "metadata": {
        "id": "Tl5d6XdMrt7q",
        "colab_type": "code",
        "outputId": "f9d47e47-7a8a-4cc5-d5e8-ba0ea78e22cc",
        "colab": {
          "base_uri": "https://localhost:8080/",
          "height": 151
        }
      },
      "cell_type": "code",
      "source": [
        "test_x=np.array([1,2,4,8]).reshape(-1,1)\n",
        "print(poly_features.fit_transform(test_x))\n",
        "\n",
        "linear_reg_poly.predict(poly_features.fit_transform(test_x))"
      ],
      "execution_count": 18,
      "outputs": [
        {
          "output_type": "stream",
          "text": [
            "[[1.000e+00 1.000e+00 1.000e+00 1.000e+00 1.000e+00]\n",
            " [1.000e+00 2.000e+00 4.000e+00 8.000e+00 1.600e+01]\n",
            " [1.000e+00 4.000e+00 1.600e+01 6.400e+01 2.560e+02]\n",
            " [1.000e+00 8.000e+00 6.400e+01 5.120e+02 4.096e+03]]\n"
          ],
          "name": "stdout"
        },
        {
          "output_type": "execute_result",
          "data": {
            "text/plain": [
              "array([[2.000e+00],\n",
              "       [4.600e+01],\n",
              "       [6.680e+02],\n",
              "       [9.592e+03]])"
            ]
          },
          "metadata": {
            "tags": []
          },
          "execution_count": 18
        }
      ]
    }
  ]
}